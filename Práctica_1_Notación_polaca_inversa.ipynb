{
  "nbformat": 4,
  "nbformat_minor": 0,
  "metadata": {
    "colab": {
      "provenance": [],
      "include_colab_link": true
    },
    "kernelspec": {
      "name": "python3",
      "display_name": "Python 3"
    },
    "language_info": {
      "name": "python"
    }
  },
  "cells": [
    {
      "cell_type": "markdown",
      "metadata": {
        "id": "view-in-github",
        "colab_type": "text"
      },
      "source": [
        "<a href=\"https://colab.research.google.com/github/SweetGI-angeles/Colab/blob/main/Pr%C3%A1ctica_1_Notaci%C3%B3n_polaca_inversa.ipynb\" target=\"_parent\"><img src=\"https://colab.research.google.com/assets/colab-badge.svg\" alt=\"Open In Colab\"/></a>"
      ]
    },
    {
      "cell_type": "code",
      "source": [
        "#Definimos nuestras funciones:\n",
        "\n",
        "#Aqui definimos nuestros operadores.\n",
        "def operador(caracter):\n",
        "  return caracter in {\"+\", \"-\", \"*\",\"/\",\"^\", \"(\", \")\",}\n",
        "\n",
        "#Aqui la jerarquia que se le va a dar.\n",
        "def jerarquia(caracter):\n",
        "  if not operador(caracter):\n",
        "    return 0\n",
        "  elif caracter in {\"+\", \"-\"}:\n",
        "    return 1\n",
        "  elif caracter in {\"*\", \"/\"}:\n",
        "    return 2\n",
        "  elif caracter in {\"^\"}:\n",
        "    return 3\n",
        "  elif caracter in {\"(\", \")\"}:\n",
        "    return 4\n",
        "\n",
        "#Como la potencia se de izquierda a derecha, la voltearemos.\n",
        "def asocia_derecha(caracter):\n",
        "  return caracter == \"^\"\n",
        "\n",
        "#Creamos nustras variables vacias, pila es para nuestros operadores\n",
        "pila = []\n",
        "\n",
        "#salida es para nuestra expresion final.\n",
        "salida = \"\"\n",
        "\n",
        "#Creamos nuestro input.\n",
        "entrada = input(\"Bienvenido, por favor escriba una expresión algebraica: \")\n",
        "\n",
        "#Y sustituimos nuestro \"**\"\n",
        "entrada = entrada.replace('**', '^')\n",
        "\n",
        "if __name__ == \"__main__\":\n",
        " #Creamos un ciclo for para poder ir iterando sobre la entrada\n",
        " for caracter in entrada:\n",
        "  #Le damos instrucción de que si es un digito entonces se agrege a la salida\n",
        "  if not operador(caracter):\n",
        "      salida += caracter\n",
        "  #Caso contrario damos las instrucciones a cumplir si es un operador o un parentesis\n",
        "  elif caracter in{'+','-','*','/','^','(',')'}:\n",
        "      if caracter in {'+','-','*','/','^'}:\n",
        "        #Mientras se cumplan las primeras condiciones y no haya \"(\"\n",
        "        while (len(pila) and (jerarquia(pila[-1]) >= jerarquia(caracter)) and not asocia_derecha(caracter) and pila[-1] != '('):\n",
        "          salida += (pila.pop())\n",
        "        pila.append(caracter)\n",
        "        #Ahora bien, si el caracter es igual a \"(\" entonces se agrega a la pila\n",
        "      elif caracter == '(':\n",
        "            pila.append(caracter)\n",
        "      #Si sucede que el caracter es igual a \")\"\n",
        "      elif caracter == ')':\n",
        "        #Entonces mientras no haya otro parentesis izquierdo se van a agregar los operadores a la salida\n",
        "        while (len(pila) and pila[-1] not in{'('}):\n",
        "          salida += (pila.pop())\n",
        "        #Van saliendo los operadores de la pila\n",
        "        pila.pop()\n",
        "\n",
        " #Ciclo para poder terminar de sacar los operadores que hay en la pila\n",
        " while pila:\n",
        "    salida += (pila.pop())\n",
        "\n",
        " #Reemplazamos ^ por **:\n",
        " salida = salida.replace('^','** ')\n",
        " print(f\"La notación polaca inversa de su expresión algebrica es: {salida} \")"
      ],
      "metadata": {
        "id": "VrvG9J-kom6u"
      },
      "execution_count": null,
      "outputs": []
    },
    {
      "cell_type": "code",
      "source": [
        "archivo_practica1 = open(\"practica1.txt\",'w')\n",
        "\n",
        "archivo_practica1.write(\"\"\"\n",
        " PRACTICA NOTACIÓN POLACA INVERSA:\n",
        " INTEGRANTES:\n",
        " -Almaraz Hérnandez María de los Ángeles\n",
        " -Aguilar Gomez Yaretzi Guadalupe\n",
        " -Pelaez Ventura Rocio\n",
        "\n",
        " Paso 1 = Definimos nuestras funciones:\n",
        "\n",
        " - Definimos nuestros operadores.\n",
        " - Definimos la jerarquia que se le va a dar.\n",
        "\n",
        " - Como la potencia se lee de izquierda a derecha, la voltearemos con asociatividad.\n",
        "\n",
        " - Creamos nustras variables vacias, pila es para nuestros operadores\n",
        " - salida es para nuestra expresion final.\n",
        "\n",
        " - Creamos nuestro input.\n",
        "\n",
        " - Y sustituimos nuestro \"**\"\n",
        "\n",
        " Paso 2 = if __name__ == \"__main__\":\n",
        "  - Creamos un ciclo for para poder ir iterando sobre la entrada\n",
        "  - Le damos instrucción de que si es un digito entonces se agrege a la salida\n",
        "  - Caso contrario damos las instrucciones a cumplir si es un operador o un parentesis\n",
        "  - Mientras se cumplan las primeras condiciones y no haya \"(\"\n",
        "  - Ahora bien, si el caracter es igual a \"(\" entonces se agrega a la pila\n",
        "  - Si sucede que el caracter es igual a \")\"\n",
        "  - Entonces mientras no haya otro parentesis izquierdo se van a agregar los operadores a la salida\n",
        "  - Van saliendo los operadores de la pila\n",
        "\n",
        "  - Ciclo para poder terminar de sacar los operadores que hay en la pila\n",
        "\n",
        "  - Reemplazamos ^ por **:\n",
        "  - Imprimimos resultado.\n",
        "\n",
        "  Con esto documentado podemos decir que el programa siguio el algoritmo y por lo\n",
        "  tanto se ejecutó de buena forma.\"\"\"\n",
        "  )\n",
        "archivo_practica1.close()"
      ],
      "metadata": {
        "id": "a81HR3tjfPAE"
      },
      "execution_count": 5,
      "outputs": []
    },
    {
      "cell_type": "code",
      "source": [
        "archivo_practica1 = open(\"practica1.txt\",'r')\n",
        "\n",
        "print(archivo_practica1.read())\n",
        "\n",
        "archivo_practica1.close()"
      ],
      "metadata": {
        "colab": {
          "base_uri": "https://localhost:8080/"
        },
        "id": "3c9hGenKj37-",
        "outputId": "9df3735e-4018-4603-cfb0-f99989acc765"
      },
      "execution_count": 6,
      "outputs": [
        {
          "output_type": "stream",
          "name": "stdout",
          "text": [
            "\n",
            " PRACTICA NOTACIÓN POLACA INVERSA:\n",
            " INTEGRANTES:\n",
            " -Almaraz Hérnandez María de los Ángeles\n",
            " -Aguilar Gomez Yaretzi Guadalupe\n",
            " -Pelaez Ventura Rocio\n",
            "\n",
            " Paso 1 = Definimos nuestras funciones:\n",
            "\n",
            " - Definimos nuestros operadores.\n",
            " - Definimos la jerarquia que se le va a dar.\n",
            "\n",
            " - Como la potencia se lee de izquierda a derecha, la voltearemos con asociatividad.\n",
            "\n",
            " - Creamos nustras variables vacias, pila es para nuestros operadores\n",
            " - salida es para nuestra expresion final.\n",
            "\n",
            " - Creamos nuestro input.\n",
            "\n",
            " - Y sustituimos nuestro \"**\"\n",
            "\n",
            " Paso 2 = if __name__ == \"__main__\":\n",
            "  - Creamos un ciclo for para poder ir iterando sobre la entrada\n",
            "  - Le damos instrucción de que si es un digito entonces se agrege a la salida\n",
            "  - Caso contrario damos las instrucciones a cumplir si es un operador o un parentesis\n",
            "  - Mientras se cumplan las primeras condiciones y no haya \"(\"\n",
            "  - Ahora bien, si el caracter es igual a \"(\" entonces se agrega a la pila\n",
            "  - Si sucede que el caracter es igual a \")\"\n",
            "  - Entonces mientras no haya otro parentesis izquierdo se van a agregar los operadores a la salida\n",
            "  - Van saliendo los operadores de la pila\n",
            "\n",
            "  - Ciclo para poder terminar de sacar los operadores que hay en la pila\n",
            "\n",
            "  - Reemplazamos ^ por **:\n",
            "  - Imprimimos resultado. \n",
            "  \n",
            "  Con esto documentado podemos decir que el programa siguio el algoritmo y por lo\n",
            "  tanto se ejecutó de buena forma.\n"
          ]
        }
      ]
    }
  ]
}